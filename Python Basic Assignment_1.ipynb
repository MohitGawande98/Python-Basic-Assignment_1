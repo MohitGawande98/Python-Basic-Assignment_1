{
 "cells": [
  {
   "cell_type": "markdown",
   "metadata": {},
   "source": [
    "# Python Basic Assignment_1."
   ]
  },
  {
   "cell_type": "raw",
   "metadata": {},
   "source": [
    "1). In the below elements which of them are values or an expression? eg:- values can be\n",
    "integer or string and expressions will be mathematical operators.\n",
    "\n",
    "Answer :- Values are the- \"Hello\", -87.8, 6\n",
    "          Expressions are the - *,-,/,+"
   ]
  },
  {
   "cell_type": "raw",
   "metadata": {},
   "source": [
    "2). What is the difference between string and variable?\n",
    "\n",
    "Answer:-String is a sequence of characters, strings in python can be created using single quotes or double quotes or even triple quotes. \n",
    "     and the variables are nothing but reserved memory locations to store values, it means that when you create a variable you reserve some space in memory. so based on the data type you can save the information in that memory.\n",
    "     Basically  variable is a store of information, and a string is a type of information you would store in a variable.\n",
    "       eg. x=\"My Name is Mohit\"\n",
    "       here x is the variable and \"My Name is Mohit\" is the information of string datatype."
   ]
  },
  {
   "cell_type": "raw",
   "metadata": {},
   "source": [
    "3). Describe three different data types.\n",
    "\n",
    "Answer:- Datatype represent the type of data stored into a variable or memory.\n",
    "         There are 5 types of datatypes come in Built in datatype.\n",
    "           1)None Type\n",
    "           2)Numeric Type\n",
    "           3)Sequence \n",
    "           4)Sets \n",
    "           5)Mappings.\n",
    "            by that we are going to describe 3 different data types.\n",
    " 1)Integer:- The int datatype  represent integer number without any decimal point or a fraction part. in python it is possible to store very large integer number as there is no limit for the size of an int datatype.\n",
    "      eg. 20,10,-50,-1002\n",
    "\n",
    " 2) Float:- The float data type represents floating point numbers. the floating point number is a number that contains a decimal point.\n",
    "     eg. 25.56,10.5,-45.69,-0.8\n",
    "\n",
    " 3) Bool Type:- The bool type datatype represents boolean value True or False. python internally represents True as 1 and false as 0.\n",
    "     eg. True, False\n",
    "         True + True=2\n",
    "         True  - False=1  "
   ]
  },
  {
   "cell_type": "raw",
   "metadata": {},
   "source": [
    "4). What is an expression made up of? What do all expressions do?\n",
    "\n",
    "Answer:- Expressions are representations of value. They are different from statement in the fact that statements do something while expressions are representations of value. for example any string is also an expressions since it represents the value of the string as well.\n",
    "            expressions is made up of identifiers, literals, and operators.\n",
    "   1)Identifiers:- Any name that is used to define a class, function, variable module, or object is an identifier.\n",
    "   2)Literals:- These are language independent terms in python and should exist independently in any programming language. In python, there are the string literals, byte literals, integer literals, floating point literals, and imaginary literals.\n",
    "   3)Operators:- An operator is a symbol that performs an operation."
   ]
  },
  {
   "cell_type": "raw",
   "metadata": {},
   "source": [
    "5). This assignment statements, like spam = 10. What is the difference between an expression and a statement?\n",
    "\n",
    "Answer:- A statement is a complete line of code that performs some action, while an expression is any section of the code that evaluates to a value. Expressions can be combined horizontally into larger expressions using operators, while statements can only be combined \"vertically\" by writing one after another, or with block constructs. every expression can be used as statement but most statements can not be used as expressions."
   ]
  },
  {
   "cell_type": "raw",
   "metadata": {},
   "source": [
    "6). After running the following code, what does the variable bacon contain?\n",
    "bacon = 22\n",
    "bacon + 1.\n",
    "\n",
    "Answer:- The variable bacon contains value=23."
   ]
  },
  {
   "cell_type": "raw",
   "metadata": {},
   "source": [
    "7). What should the values of the following two terms be?\n",
    "  'spam'+'spamspam'\n",
    "  'spam'*3\n",
    "  \n",
    "Answer:- the values of the following two terms is 'spamspamspam'"
   ]
  },
  {
   "cell_type": "code",
   "execution_count": 5,
   "metadata": {},
   "outputs": [
    {
     "data": {
      "text/plain": [
       "'spamspamspam'"
      ]
     },
     "execution_count": 5,
     "metadata": {},
     "output_type": "execute_result"
    }
   ],
   "source": [
    "'spam'+'spamspam'"
   ]
  },
  {
   "cell_type": "code",
   "execution_count": 6,
   "metadata": {},
   "outputs": [
    {
     "data": {
      "text/plain": [
       "'spamspamspam'"
      ]
     },
     "execution_count": 6,
     "metadata": {},
     "output_type": "execute_result"
    }
   ],
   "source": [
    "'spam'*3"
   ]
  },
  {
   "cell_type": "raw",
   "metadata": {},
   "source": [
    "8). Why is eggs a valid variable name while 100 is invalid?\n",
    "\n",
    "Answer:- Because the rules for python variables are,\n",
    "         1) A variable name must start with a letter or the underscore character.\n",
    "         2) A variable name can not starts with a number.\n",
    "         3) A variable name can only contain alpha-numeric characters and underscores.\n",
    "             that's why we can not write variable as 100."
   ]
  },
  {
   "cell_type": "raw",
   "metadata": {},
   "source": [
    "9). What three functions can be used to get the integer, floating-point number, or string\n",
    "version of a value?\n",
    "\n",
    "Answer:- The int() , float() , and str( ) functions will evaluate to the integer, floating-point number, and string versions of the value passed to them."
   ]
  },
  {
   "cell_type": "raw",
   "metadata": {},
   "source": [
    "10). Why does this expression cause an error? How can you fix it?\n",
    " 'i have eaten'+99+'burritos'\n",
    " \n",
    "Answer:- This expression causes an error because, a string with a single quotation mark at the beginning must be terminated with a single quote. so this type of problem is fix by a single quote string may have embedded double quotes and double qoutes string may have embedded single quotes is a proper and right way to build a program.\n",
    "\n",
    "    eg. 'i have eaten'+99+'burritos'      #This is wrong way to write a program.\n",
    "         \"i have eaten'+99+'burritos\"     #This is right way to write program."
   ]
  },
  {
   "cell_type": "code",
   "execution_count": 9,
   "metadata": {},
   "outputs": [
    {
     "ename": "TypeError",
     "evalue": "can only concatenate str (not \"int\") to str",
     "output_type": "error",
     "traceback": [
      "\u001b[1;31m---------------------------------------------------------------------------\u001b[0m",
      "\u001b[1;31mTypeError\u001b[0m                                 Traceback (most recent call last)",
      "\u001b[1;32m<ipython-input-9-787a23c01f4d>\u001b[0m in \u001b[0;36m<module>\u001b[1;34m\u001b[0m\n\u001b[1;32m----> 1\u001b[1;33m \u001b[1;34m'i have eaten'\u001b[0m\u001b[1;33m+\u001b[0m\u001b[1;36m99\u001b[0m\u001b[1;33m+\u001b[0m\u001b[1;34m'burritos'\u001b[0m\u001b[1;33m\u001b[0m\u001b[1;33m\u001b[0m\u001b[0m\n\u001b[0m",
      "\u001b[1;31mTypeError\u001b[0m: can only concatenate str (not \"int\") to str"
     ]
    }
   ],
   "source": [
    "'i have eaten'+99+'burritos'            #This is wrong way to write a program. "
   ]
  },
  {
   "cell_type": "code",
   "execution_count": 10,
   "metadata": {},
   "outputs": [
    {
     "data": {
      "text/plain": [
       "\"i have eaten'+99+'burritos\""
      ]
     },
     "execution_count": 10,
     "metadata": {},
     "output_type": "execute_result"
    }
   ],
   "source": [
    "\"i have eaten'+99+'burritos\"           #This is right way to write program.  "
   ]
  },
  {
   "cell_type": "code",
   "execution_count": null,
   "metadata": {},
   "outputs": [],
   "source": []
  }
 ],
 "metadata": {
  "kernelspec": {
   "display_name": "Python 3",
   "language": "python",
   "name": "python3"
  },
  "language_info": {
   "codemirror_mode": {
    "name": "ipython",
    "version": 3
   },
   "file_extension": ".py",
   "mimetype": "text/x-python",
   "name": "python",
   "nbconvert_exporter": "python",
   "pygments_lexer": "ipython3",
   "version": "3.7.1"
  }
 },
 "nbformat": 4,
 "nbformat_minor": 2
}
